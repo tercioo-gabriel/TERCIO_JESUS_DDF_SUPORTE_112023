{
 "cells": [
  {
   "cell_type": "markdown",
   "metadata": {},
   "source": [
    "### ITEM 1 - Algumas possíveis alterações para melhoria da planilha."
   ]
  },
  {
   "cell_type": "markdown",
   "metadata": {},
   "source": [
    "1: A coluna \"EmployeeCount\" parece conter um valor constante \"1\" em todas as linhas. Isso não parece fornecer informações tão úteis, a menos que haja um motivo específico para mantê-lo, pode ser removido.\n",
    "\n",
    "2: A coluna \"Over18\" também parece conter um valor constante \"Y\" em todas as linhas. A menos que haja um motivo específico para mantê-lo, considere removê-lo, pois não parece conter informações úteis.\n",
    "\n",
    "3: A coluna \"BusinessTravel\" poderia ser normalizada para conter apenas valores únicos e criar uma nova tabela para mapear os funcionários para seus tipos de viagem. Isso ajudaria a economizar espaço e melhorar a eficiência.\n",
    "\n",
    "Tem alguns cuidados que devem ser levados em consideração ao fazer o upload da planilha no Google Sheets, como: \n",
    "- Limpeza e preparação dos dados, certificando que a planilha esteja limpa e os dados bem formatados, sem erros.\n",
    "- Controle de Acesso, gerencie as permissões de compartilhamento das planilhas para garantir que apenas pessoas autorizadas tenham acesso. Evite compartilhar dados sensíveis de maneira inadequada, protegendo a privacidade e a segurança dos dados."
   ]
  },
  {
   "cell_type": "markdown",
   "metadata": {},
   "source": [
    "------------------------------------------------------------"
   ]
  },
  {
   "cell_type": "markdown",
   "metadata": {},
   "source": [
    "### ITEM 2 - Incorporar uma nova plataforma de gerenciamento de diretório em nuvem com SSO e recursos de ciclo de vida do usuário, é fundamental seguir as melhores práticas para garantir uma transição segura e eficiente, mantendo a proteção dos dados dos clientes."
   ]
  },
  {
   "cell_type": "markdown",
   "metadata": {},
   "source": [
    "Três principais práticas seguras incluem:\n",
    "\n",
    "1: Avaliação e Planejamento. Realizando uma avaliação detalhada das necessidades da empresa e dos clientes, identificando dados sensíveis e estabeleça protocolos de segurança e privacidade.\n",
    "\n",
    "2: Comunicação com os Clientes. É preciso implementar uma estratégia de comunicação proativa, destacando os benefícios da nova plataforma, explicando como a migração afetará os dados dos clientes e comprometendo-se a proteger esses dados.\n",
    "\n",
    "3: Monitoramento e Aperfeiçoamento. Manter um monitoramento constante da plataforma, realizando auditorias de segurança regulares e coletando feedback dos clientes para melhorar a experiência e garantir a conformidade contínua com regulamentações."
   ]
  },
  {
   "cell_type": "markdown",
   "metadata": {},
   "source": [
    "------------------------------------------------------------"
   ]
  },
  {
   "cell_type": "markdown",
   "metadata": {},
   "source": [
    "### ITEM 3 - Para implementar uma ferramenta de Chatbot com IA é necessário definir objetivos claros, indentificação de casos de uso relevante, treinar o Chatbot adequadamente, integrar com equipe de suporte humano, ter um bom acompanhamento e feedback dos clientes."
   ]
  },
  {
   "cell_type": "markdown",
   "metadata": {},
   "source": [
    "Um exemplo passo a passo para implementação dessa ferramenta:\n",
    "\n",
    "1: Usuário Inicia a Interação. O processo começa quando o usuário inicia uma interação, como acessar o site da empresa ou entrar em contato por chat, e-mail, ou telefone.\n",
    "\n",
    "2: Interação com o Chatbot (Máquina). O usuário é recebido pelo Chatbot, que cumprimenta e coleta informações iniciais sobre a consulta ou problema do cliente.\n",
    "\n",
    "3: Resposta do Chatbot (Máquina). Com base nas informações fornecidas pelo usuário, o Chatbot tenta responder à consulta. Ele pode fornecer informações, solucionar problemas simples ou direcionar o usuário para etapas específicas.\n",
    "\n",
    "4: Integração com Documentação (Máquina). Se a resposta do Chatbot exigir informações adicionais, ele pode consultar a documentação da empresa para fornecer detalhes precisos. A documentação pode incluir manuais, políticas, FAQs e outros recursos.\n",
    "\n",
    "5: Encaminhamento para Suporte Humano (Suporte Humano). Se o Chatbot não conseguir resolver a consulta ou se o usuário solicitar assistência humana, a interação é encaminhada para um agente de suporte humano.\n",
    "\n",
    "6: Assistência Humana (Suporte Humano). O agente humano recebe a interação do usuário com o contexto fornecido pelo Chatbot. O agente fornece suporte personalizado, responde a perguntas mais complexas e resolve problemas que exigem intervenção humana.\n",
    "\n",
    "7: Feedback e Avaliação (Usuário). Após a resolução da consulta, o usuário pode fornecer feedback sobre a interação, o que ajuda na melhoria contínua dos serviços.\n",
    "\n",
    "8: Registro e Documentação (Documentação). Todas as interações com os usuários, sejam resolvidas pelo Chatbot ou pelo suporte humano, são registradas para documentação e análise futura. Isso ajuda na avaliação do desempenho e na identificação de áreas de melhoria.\n",
    "\n",
    "9: Análise de Dados (Empresa). A empresa analisa os dados coletados para avaliar a eficácia do atendimento, a satisfação do cliente e identificar oportunidades de melhoria no processo.\n",
    "\n",
    "Ps. Não conseguir colocar o print mas vou simula como poderia acontecer.\n",
    "\n",
    "-\n",
    "Usuário: Olá, estou com problemas para redefinir minha senha na plataforma. Como faço?\n",
    "\n",
    "Chatbot (IA): Olá! Entendo que você está tendo problemas com a redefinição da senha. Para ajudar, vou guiá-lo por meio do processo. Primeiro, você pode tentar o seguinte:\n",
    "\n",
    "1.Acesse a página de login em nosso site.\n",
    "2.Clique em \"Esqueci minha senha\".\n",
    "3.Siga as instruções para redefinir sua senha.\n",
    "\n",
    "Se você ainda encontrar dificuldades, estou aqui para ajudar com etapas adicionais ou para encaminhá-lo a um agente humano, se necessário.\n",
    "\n",
    "Usuário: Obrigado pelas instruções, vou tentar isso agora.\n",
    "\n",
    "Chatbot (IA): Ótimo! Se precisar de mais assistência, não hesite em voltar. Boa sorte!"
   ]
  },
  {
   "cell_type": "markdown",
   "metadata": {},
   "source": [
    "------------------------------------------------------------"
   ]
  },
  {
   "cell_type": "markdown",
   "metadata": {},
   "source": [
    "### ITEM 4 e 5 - Consultas SQL aqui e os Dashboards e gráficos todos no site da DadosFera."
   ]
  },
  {
   "cell_type": "markdown",
   "metadata": {},
   "source": [
    "Cargos:\n",
    "SELECT\n",
    "    CASE\n",
    "        WHEN JobRole IN ('Sales Executive', 'Research Scientist', 'Laboratory Technician', 'Manufacturing Director', 'Healthcare Representative') THEN JobRole\n",
    "        ELSE 'Others'\n",
    "    END AS Cargos,\n",
    "    COUNT(*) AS Contagem\n",
    "FROM TB__TAEZZB__EMPLOYEE\n",
    "GROUP BY Cargos;\n",
    "\n",
    "\n",
    "Departamentos:\n",
    "SELECT\n",
    "    CASE\n",
    "        WHEN Department IN ('Sales', 'Research & Development', 'Human Resources') THEN Department\n",
    "        ELSE 'Total'\n",
    "    END AS Departamento, SUM(CASE WHEN Department IN ('Sales', 'Research & Development', 'Human Resources') THEN 1 ELSE 0 END) AS Contagem_Porcentagem\n",
    "FROM TB__TAEZZB__EMPLOYEE\n",
    "GROUP BY\n",
    "    CASE\n",
    "        WHEN Department IN ('Sales', 'Research & Development', 'Human Resources') THEN Department\n",
    "        ELSE 'Total'\n",
    "    END\n",
    "ORDER BY Departamento DESC;\n",
    "\n",
    "\n",
    "Faixa Etária dos Funcionários:\n",
    "SELECT\n",
    "    'Menor que 25' AS Faixa_etaria_funcionarios,\n",
    "    SUM(CASE WHEN Age < 25 THEN 1 ELSE 0 END) * 100.0 / COUNT(*) AS Porcentagem\n",
    "FROM TB__TAEZZB__EMPLOYEE\n",
    "UNION ALL\n",
    "SELECT\n",
    "    '25 a 35' AS Faixa_etaria_funcionarios,\n",
    "    SUM(CASE WHEN Age >= 25 AND Age <= 35 THEN 1 ELSE 0 END) * 100.0 / COUNT(*) AS Porcentagem\n",
    "FROM TB__TAEZZB__EMPLOYEE\n",
    "UNION ALL\n",
    "SELECT\n",
    "    '35 a 45' AS Faixa_etaria_funcionarios,\n",
    "    SUM(CASE WHEN Age > 35 AND Age <= 45 THEN 1 ELSE 0 END) * 100.0 / COUNT(*) AS Porcentagem\n",
    "FROM TB__TAEZZB__EMPLOYEE\n",
    "UNION ALL\n",
    "SELECT\n",
    "    'Mais que 45' AS Faixa_etaria_funcionarios,\n",
    "    SUM(CASE WHEN Age > 45 THEN 1 ELSE 0 END) * 100.0 / COUNT(*) AS Porcentagem\n",
    "FROM TB__TAEZZB__EMPLOYEE;\n",
    "\n",
    "\n",
    "Média dos Anos Trabalhados:\n",
    "SELECT\n",
    "    'Tempo Trabalhado' AS Media_de_Funcionarios,\n",
    "    AVG(TotalWorkingYears) AS Anos\n",
    "FROM TB__TAEZZB__EMPLOYEE\n",
    "UNION ALL\n",
    "SELECT\n",
    "    'Tempo na Empresa' AS Media_de_Funcionarios,\n",
    "    AVG(YearsAtCompany) AS Anos\n",
    "FROM TB__TAEZZB__EMPLOYEE\n",
    "UNION ALL\n",
    "SELECT\n",
    "    'Tempo na Função Atual' AS Media_de_Funcionarios,\n",
    "    AVG(YearsInCurrentRole) AS Anos\n",
    "FROM TB__TAEZZB__EMPLOYEE\n",
    "UNION ALL\n",
    "SELECT\n",
    "    'Tempo desde a Última Promoção' AS Media_de_Funcionarios,\n",
    "    AVG(YearsSinceLastPromotion) AS Anos\n",
    "FROM TB__TAEZZB__EMPLOYEE;\n",
    "\n",
    "\n",
    "Soma do JobLevel dos Funcionários dos Departamentos:\n",
    "SELECT\n",
    "    Department AS Departamentos,\n",
    "    SUM(JobLevel) AS Soma_JobLevel\n",
    "FROM TB__TAEZZB__EMPLOYEE\n",
    "WHERE Department IN ('Sales', 'Research & Development', 'Human Resources')\n",
    "GROUP BY Department;"
   ]
  },
  {
   "cell_type": "markdown",
   "metadata": {},
   "source": [
    "![Cargos](./Cargos.png)\n",
    "![Departamentos](./Departamento.png)\n",
    "![Dashboard Completo](./Dashboard_Completo.png)"
   ]
  }
 ],
 "metadata": {
  "kernelspec": {
   "display_name": "Python 3",
   "language": "python",
   "name": "python3"
  },
  "language_info": {
   "codemirror_mode": {
    "name": "ipython",
    "version": 3
   },
   "file_extension": ".py",
   "mimetype": "text/x-python",
   "name": "python",
   "nbconvert_exporter": "python",
   "pygments_lexer": "ipython3",
   "version": "3.11.5"
  }
 },
 "nbformat": 4,
 "nbformat_minor": 2
}
